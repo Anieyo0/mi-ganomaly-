{
 "cells": [
  {
   "cell_type": "code",
   "execution_count": 1,
   "metadata": {},
   "outputs": [],
   "source": [
    "# 필요한 라이브러리 및 모듈 불러오기\n",
    "import os\n",
    "import torch\n",
    "from torch.utils.data import DataLoader, Dataset\n",
    "from torchvision import transforms\n",
    "from PIL import Image\n",
    "import sys\n",
    "from sklearn.metrics import classification_report, confusion_matrix, roc_curve\n",
    "import matplotlib.pyplot as plt\n",
    "import numpy as np\n",
    "import seaborn as sns\n",
    "\n",
    "sys.path.append(r\"C:\\Users\\dhshs\\Documents\\ganomaly_global\")\n",
    "sys.path.append(r\"C:\\Users\\dhshs\\Documents\\ganomaly_global\\lib\")\n",
    "from lib.model import Ganomaly  # lib/model.py에서 제공되는 GANomaly 모델 사용\n",
    "from lib.evaluate import evaluate, roc  # evaluate.py에서 제공되는 평가 함수 사용\n",
    "from lib.visualizer import Visualizer  # visualizer.py에서 제공되는 시각화 클래스 사용\n",
    "from options import Options  # 옵션 파일\n",
    "\n",
    "# GPU 사용 설정\n",
    "device = torch.device(\"cuda\" if torch.cuda.is_available() else \"cpu\")\n"
   ]
  },
  {
   "cell_type": "code",
   "execution_count": 2,
   "metadata": {},
   "outputs": [],
   "source": [
    "# 컬러\n",
    "class CustomDataset(Dataset): \n",
    "    def __init__(self, directory, label, transform=None):\n",
    "        self.directory = directory\n",
    "        self.transform = transform\n",
    "        self.label = label  # 레이블 정보 추가\n",
    "        self.images = [img for img in os.listdir(directory) if img.endswith(('.png', '.jpg', '.jpeg'))]\n",
    "\n",
    "    def __len__(self):\n",
    "        return len(self.images)\n",
    "\n",
    "    def __getitem__(self, idx):\n",
    "        img_path = os.path.join(self.directory, self.images[idx])\n",
    "        image = Image.open(img_path)  # 컬러 이미지로 로드\n",
    "\n",
    "        if self.transform:\n",
    "            image = self.transform(image)\n",
    "\n",
    "        return image, torch.tensor(self.label, dtype=torch.long)  # 레이블 포함하여 반환"
   ]
  },
  {
   "cell_type": "code",
   "execution_count": 3,
   "metadata": {},
   "outputs": [],
   "source": [
    "# 데이터셋 경로 설정\n",
    "normal_train_dir = r\"C:\\Users\\dhshs\\Documents\\ganomaly_global\\dataset\\CIFAR\\train\\0.normal\"\n",
    "abnormal_test_dir = r\"C:\\Users\\dhshs\\Documents\\ganomaly_global\\dataset\\CIFAR\\test\\1.abnormal\"\n",
    "normal_test_dir = r\"C:\\Users\\dhshs\\Documents\\ganomaly_global\\dataset\\CIFAR\\test\\0.normal\"\n",
    "\n",
    "# 데이터 전처리 및 데이터 로더 설정\n",
    "transform = transforms.Compose([\n",
    "    transforms.Resize((32, 32)),  # 이미지 크기 조정\n",
    "    transforms.ToTensor(),  # 텐서로 변환\n",
    "])\n",
    "\n",
    "# 학습 및 테스트 데이터셋 생성\n",
    "train_dataset = CustomDataset(normal_train_dir, label=0, transform=transform)  # 학습 데이터셋 로드 (normal만)\n",
    "normal_test_dataset = CustomDataset(normal_test_dir, label=0, transform=transform)  # 테스트 데이터셋 로드 (normal)\n",
    "abnormal_test_dataset = CustomDataset(abnormal_test_dir, label=1, transform=transform)  # 테스트 데이터셋 로드 (abnormal)\n",
    "\n",
    "# 두 개의 테스트 데이터셋을 합침\n",
    "from torch.utils.data import ConcatDataset\n",
    "\n",
    "test_dataset = ConcatDataset([normal_test_dataset, abnormal_test_dataset])\n",
    "\n",
    "# 데이터 로더 설정\n",
    "train_loader = DataLoader(train_dataset, batch_size=32, shuffle=True, num_workers=0, drop_last=True)\n",
    "test_loader = DataLoader(test_dataset, batch_size=32, shuffle=False, num_workers=0)\n"
   ]
  },
  {
   "cell_type": "code",
   "execution_count": 4,
   "metadata": {},
   "outputs": [
    {
     "data": {
      "image/png": "[encoded data removed]",
      "text/plain": [
       "<Figure size 640x480 with 1 Axes>"
      ]
     },
     "metadata": {},
     "output_type": "display_data"
    }
   ],
   "source": [
    "# 컬러\n",
    "import matplotlib.pyplot as plt\n",
    "import matplotlib as mpl\n",
    "\n",
    "# LaTeX 비활성화\n",
    "mpl.rcParams['text.usetex'] = False\n",
    "\n",
    "# 데이터 로더에서 샘플 하나 가져오기\n",
    "sample_image, sample_label = next(iter(test_loader))  # 첫 배치에서 이미지와 레이블 가져오기\n",
    "image = sample_image[0]  # 첫 번째 이미지 선택\n",
    "\n",
    "# 텐서를 NumPy로 변환 및 채널 순서 변경 (C, H, W -> H, W, C)\n",
    "image_np = image.permute(1, 2, 0).numpy()\n",
    "\n",
    "# 시각화\n",
    "plt.rcParams[\"font.family\"] = \"Arial\"\n",
    "plt.imshow(image_np)\n",
    "plt.title(f\"Label: {sample_label[0].item()}\")\n",
    "plt.axis('off')\n",
    "plt.show()\n"
   ]
  },
  {
   "cell_type": "code",
   "execution_count": 5,
   "metadata": {},
   "outputs": [],
   "source": [
    "# Jupyter Notebook의 매개변수를 무시하도록 설정\n",
    "sys.argv = ['']\n",
    "\n",
    "# 옵션 설정\n",
    "opt = Options().parse()\n",
    "opt.isize = 32  # 데이터의 이미지 크기\n",
    "opt.batchsize = 32  # 배치 크기 설정\n",
    "opt.save_test_images = True  # 테스트 이미지 저장 설정\n",
    "opt.display = True  # 실시간 시각화 설정\n",
    "opt.use_context_pred = True # 마스킹 설정\n",
    "\n",
    "opt.outf = './output(CIFAR with mask)'\n",
    "opt.nz = 500    # 잠재 벡터 차원 수 \n",
    "opt.nc = 3       # 채널 수\n",
    "opt.niter = 50 # 에폭 수\n",
    "opt.context_mask_size = 8 # 마스킹 블록 크기"
   ]
  },
  {
   "cell_type": "code",
   "execution_count": 6,
   "metadata": {},
   "outputs": [
    {
     "name": "stderr",
     "output_type": "stream",
     "text": [
      "Setting up a new session...\n"
     ]
    }
   ],
   "source": [
    "dataloader = {'train': train_loader, 'test': test_loader}  # 데이터 로더 설정\n",
    "\n",
    "# GANomaly 모델 생성\n",
    "model = Ganomaly(opt, dataloader)"
   ]
  },
  {
   "cell_type": "code",
   "execution_count": 7,
   "metadata": {},
   "outputs": [
    {
     "name": "stdout",
     "output_type": "stream",
     "text": [
      ">> Training model Ganomaly.\n"
     ]
    },
    {
     "name": "stderr",
     "output_type": "stream",
     "text": [
      "                                               \r"
     ]
    },
    {
     "name": "stdout",
     "output_type": "stream",
     "text": [
      "Epoch [1/50], Generator Loss: 11.0721, Discriminator Loss: 0.0357\n",
      "Epoch [1/50] - Avg Generator Loss: 11.0721, Avg Discriminator Loss: 0.0357, Best AUC: 0.5298\n",
      "   Avg Run Time (ms/batch): 3.969 roc: 0.530 max roc: 0.530\n"
     ]
    },
    {
     "name": "stderr",
     "output_type": "stream",
     "text": [
      "                                               \r"
     ]
    },
    {
     "name": "stdout",
     "output_type": "stream",
     "text": [
      "Epoch [2/50], Generator Loss: 6.2440, Discriminator Loss: 0.0146\n",
      "Epoch [2/50] - Avg Generator Loss: 6.2440, Avg Discriminator Loss: 0.0146, Best AUC: 0.5298\n",
      "   Avg Run Time (ms/batch): 3.218 roc: 0.525 max roc: 0.530\n"
     ]
    },
    {
     "name": "stderr",
     "output_type": "stream",
     "text": [
      "                                               \r"
     ]
    },
    {
     "name": "stdout",
     "output_type": "stream",
     "text": [
      "Epoch [3/50], Generator Loss: 5.5059, Discriminator Loss: 0.0555\n",
      "Epoch [3/50] - Avg Generator Loss: 5.5059, Avg Discriminator Loss: 0.0555, Best AUC: 0.5412\n",
      "   Avg Run Time (ms/batch): 4.156 roc: 0.541 max roc: 0.541\n"
     ]
    },
    {
     "name": "stderr",
     "output_type": "stream",
     "text": [
      "                                               \r"
     ]
    },
    {
     "name": "stdout",
     "output_type": "stream",
     "text": [
      "Epoch [4/50], Generator Loss: 5.1017, Discriminator Loss: 0.0149\n",
      "Epoch [4/50] - Avg Generator Loss: 5.1017, Avg Discriminator Loss: 0.0149, Best AUC: 0.5412\n",
      "   Avg Run Time (ms/batch): 3.352 roc: 0.531 max roc: 0.541\n"
     ]
    },
    {
     "name": "stderr",
     "output_type": "stream",
     "text": [
      "                                               \r"
     ]
    },
    {
     "name": "stdout",
     "output_type": "stream",
     "text": [
      "Epoch [5/50], Generator Loss: 4.8948, Discriminator Loss: 0.0077\n",
      "Epoch [5/50] - Avg Generator Loss: 4.8948, Avg Discriminator Loss: 0.0077, Best AUC: 0.5505\n",
      "   Avg Run Time (ms/batch): 3.668 roc: 0.550 max roc: 0.550\n"
     ]
    },
    {
     "name": "stderr",
     "output_type": "stream",
     "text": [
      "                                               \r"
     ]
    },
    {
     "name": "stdout",
     "output_type": "stream",
     "text": [
      "Epoch [6/50], Generator Loss: 4.6844, Discriminator Loss: 0.0100\n",
      "Epoch [6/50] - Avg Generator Loss: 4.6844, Avg Discriminator Loss: 0.0100, Best AUC: 0.5683\n",
      "   Avg Run Time (ms/batch): 3.448 roc: 0.568 max roc: 0.568\n"
     ]
    },
    {
     "name": "stderr",
     "output_type": "stream",
     "text": [
      "                                               \r"
     ]
    },
    {
     "name": "stdout",
     "output_type": "stream",
     "text": [
      "Epoch [7/50], Generator Loss: 4.5453, Discriminator Loss: 0.0045\n",
      "Epoch [7/50] - Avg Generator Loss: 4.5453, Avg Discriminator Loss: 0.0045, Best AUC: 0.5683\n",
      "   Avg Run Time (ms/batch): 6.445 roc: 0.560 max roc: 0.568\n"
     ]
    },
    {
     "name": "stderr",
     "output_type": "stream",
     "text": [
      "                                               \r"
     ]
    },
    {
     "name": "stdout",
     "output_type": "stream",
     "text": [
      "Epoch [8/50], Generator Loss: 4.3971, Discriminator Loss: 0.0056\n",
      "Epoch [8/50] - Avg Generator Loss: 4.3971, Avg Discriminator Loss: 0.0056, Best AUC: 0.5683\n",
      "   Avg Run Time (ms/batch): 3.464 roc: 0.566 max roc: 0.568\n"
     ]
    },
    {
     "name": "stderr",
     "output_type": "stream",
     "text": [
      "                                               \r"
     ]
    },
    {
     "name": "stdout",
     "output_type": "stream",
     "text": [
      "Epoch [9/50], Generator Loss: 4.3235, Discriminator Loss: 0.0039\n",
      "Epoch [9/50] - Avg Generator Loss: 4.3235, Avg Discriminator Loss: 0.0039, Best AUC: 0.5729\n",
      "   Avg Run Time (ms/batch): 3.311 roc: 0.573 max roc: 0.573\n"
     ]
    },
    {
     "name": "stderr",
     "output_type": "stream",
     "text": [
      "                                               \r"
     ]
    },
    {
     "name": "stdout",
     "output_type": "stream",
     "text": [
      "Epoch [10/50], Generator Loss: 4.1329, Discriminator Loss: 0.3757\n",
      "Epoch [10/50] - Avg Generator Loss: 4.1329, Avg Discriminator Loss: 0.3757, Best AUC: 0.5806\n",
      "   Avg Run Time (ms/batch): 4.572 roc: 0.581 max roc: 0.581\n"
     ]
    },
    {
     "name": "stderr",
     "output_type": "stream",
     "text": [
      "                                               \r"
     ]
    },
    {
     "name": "stdout",
     "output_type": "stream",
     "text": [
      "Epoch [11/50], Generator Loss: 4.0134, Discriminator Loss: 0.0126\n",
      "Epoch [11/50] - Avg Generator Loss: 4.0134, Avg Discriminator Loss: 0.0126, Best AUC: 0.5806\n",
      "   Avg Run Time (ms/batch): 3.663 roc: 0.577 max roc: 0.581\n"
     ]
    },
    {
     "name": "stderr",
     "output_type": "stream",
     "text": [
      "                                               \r"
     ]
    },
    {
     "name": "stdout",
     "output_type": "stream",
     "text": [
      "Epoch [12/50], Generator Loss: 3.9754, Discriminator Loss: 0.0533\n",
      "Epoch [12/50] - Avg Generator Loss: 3.9754, Avg Discriminator Loss: 0.0533, Best AUC: 0.5806\n",
      "   Avg Run Time (ms/batch): 3.671 roc: 0.579 max roc: 0.581\n"
     ]
    },
    {
     "name": "stderr",
     "output_type": "stream",
     "text": [
      "                                               \r"
     ]
    },
    {
     "name": "stdout",
     "output_type": "stream",
     "text": [
      "Epoch [13/50], Generator Loss: 3.8753, Discriminator Loss: 0.0058\n",
      "Epoch [13/50] - Avg Generator Loss: 3.8753, Avg Discriminator Loss: 0.0058, Best AUC: 0.5806\n",
      "   Avg Run Time (ms/batch): 3.429 roc: 0.572 max roc: 0.581\n"
     ]
    },
    {
     "name": "stderr",
     "output_type": "stream",
     "text": [
      "                                               \r"
     ]
    },
    {
     "name": "stdout",
     "output_type": "stream",
     "text": [
      "Epoch [14/50], Generator Loss: 3.8083, Discriminator Loss: 0.0047\n",
      "Epoch [14/50] - Avg Generator Loss: 3.8083, Avg Discriminator Loss: 0.0047, Best AUC: 0.5806\n",
      "   Avg Run Time (ms/batch): 4.174 roc: 0.563 max roc: 0.581\n"
     ]
    },
    {
     "name": "stderr",
     "output_type": "stream",
     "text": [
      "                                               \r"
     ]
    },
    {
     "name": "stdout",
     "output_type": "stream",
     "text": [
      "Epoch [15/50], Generator Loss: 3.7576, Discriminator Loss: 0.0192\n",
      "Epoch [15/50] - Avg Generator Loss: 3.7576, Avg Discriminator Loss: 0.0192, Best AUC: 0.5806\n",
      "   Avg Run Time (ms/batch): 3.116 roc: 0.567 max roc: 0.581\n"
     ]
    },
    {
     "name": "stderr",
     "output_type": "stream",
     "text": [
      "                                               \r"
     ]
    },
    {
     "name": "stdout",
     "output_type": "stream",
     "text": [
      "Epoch [16/50], Generator Loss: 3.7381, Discriminator Loss: 0.0129\n",
      "Epoch [16/50] - Avg Generator Loss: 3.7381, Avg Discriminator Loss: 0.0129, Best AUC: 0.5806\n",
      "   Avg Run Time (ms/batch): 3.478 roc: 0.557 max roc: 0.581\n"
     ]
    },
    {
     "name": "stderr",
     "output_type": "stream",
     "text": [
      "                                               \r"
     ]
    },
    {
     "name": "stdout",
     "output_type": "stream",
     "text": [
      "Epoch [17/50], Generator Loss: 3.6882, Discriminator Loss: 0.0058\n",
      "Epoch [17/50] - Avg Generator Loss: 3.6882, Avg Discriminator Loss: 0.0058, Best AUC: 0.5806\n",
      "   Avg Run Time (ms/batch): 6.360 roc: 0.559 max roc: 0.581\n"
     ]
    },
    {
     "name": "stderr",
     "output_type": "stream",
     "text": [
      "                                               \r"
     ]
    },
    {
     "name": "stdout",
     "output_type": "stream",
     "text": [
      "Epoch [18/50], Generator Loss: 3.6729, Discriminator Loss: 0.0067\n",
      "Epoch [18/50] - Avg Generator Loss: 3.6729, Avg Discriminator Loss: 0.0067, Best AUC: 0.5806\n",
      "   Avg Run Time (ms/batch): 3.443 roc: 0.572 max roc: 0.581\n"
     ]
    },
    {
     "name": "stderr",
     "output_type": "stream",
     "text": [
      "                                               \r"
     ]
    },
    {
     "name": "stdout",
     "output_type": "stream",
     "text": [
      "Epoch [19/50], Generator Loss: 3.5834, Discriminator Loss: 0.0033\n",
      "Epoch [19/50] - Avg Generator Loss: 3.5834, Avg Discriminator Loss: 0.0033, Best AUC: 0.5806\n",
      "   Avg Run Time (ms/batch): 3.678 roc: 0.556 max roc: 0.581\n"
     ]
    },
    {
     "name": "stderr",
     "output_type": "stream",
     "text": [
      "                                               \r"
     ]
    },
    {
     "name": "stdout",
     "output_type": "stream",
     "text": [
      "Epoch [20/50], Generator Loss: 3.4694, Discriminator Loss: 0.1524\n",
      "Epoch [20/50] - Avg Generator Loss: 3.4694, Avg Discriminator Loss: 0.1524, Best AUC: 0.5806\n",
      "   Avg Run Time (ms/batch): 3.672 roc: 0.561 max roc: 0.581\n"
     ]
    },
    {
     "name": "stderr",
     "output_type": "stream",
     "text": [
      "                                               \r"
     ]
    },
    {
     "name": "stdout",
     "output_type": "stream",
     "text": [
      "Epoch [21/50], Generator Loss: 3.4763, Discriminator Loss: 0.0066\n",
      "Epoch [21/50] - Avg Generator Loss: 3.4763, Avg Discriminator Loss: 0.0066, Best AUC: 0.5806\n",
      "   Avg Run Time (ms/batch): 7.018 roc: 0.566 max roc: 0.581\n"
     ]
    },
    {
     "name": "stderr",
     "output_type": "stream",
     "text": [
      "                                               \r"
     ]
    },
    {
     "name": "stdout",
     "output_type": "stream",
     "text": [
      "Epoch [22/50], Generator Loss: 3.4791, Discriminator Loss: 0.0061\n",
      "Epoch [22/50] - Avg Generator Loss: 3.4791, Avg Discriminator Loss: 0.0061, Best AUC: 0.5806\n",
      "   Avg Run Time (ms/batch): 6.555 roc: 0.562 max roc: 0.581\n"
     ]
    },
    {
     "name": "stderr",
     "output_type": "stream",
     "text": [
      "                                               \r"
     ]
    },
    {
     "name": "stdout",
     "output_type": "stream",
     "text": [
      "Epoch [23/50], Generator Loss: 3.4092, Discriminator Loss: 0.0104\n",
      "Epoch [23/50] - Avg Generator Loss: 3.4092, Avg Discriminator Loss: 0.0104, Best AUC: 0.5806\n",
      "   Avg Run Time (ms/batch): 6.511 roc: 0.561 max roc: 0.581\n"
     ]
    },
    {
     "name": "stderr",
     "output_type": "stream",
     "text": [
      "                                               \r"
     ]
    },
    {
     "name": "stdout",
     "output_type": "stream",
     "text": [
      "Epoch [24/50], Generator Loss: 3.4018, Discriminator Loss: 0.0064\n",
      "Epoch [24/50] - Avg Generator Loss: 3.4018, Avg Discriminator Loss: 0.0064, Best AUC: 0.5806\n",
      "   Avg Run Time (ms/batch): 6.725 roc: 0.574 max roc: 0.581\n"
     ]
    },
    {
     "name": "stderr",
     "output_type": "stream",
     "text": [
      "                                               \r"
     ]
    },
    {
     "name": "stdout",
     "output_type": "stream",
     "text": [
      "Epoch [25/50], Generator Loss: 3.3364, Discriminator Loss: 0.0049\n",
      "Epoch [25/50] - Avg Generator Loss: 3.3364, Avg Discriminator Loss: 0.0049, Best AUC: 0.5806\n",
      "   Avg Run Time (ms/batch): 3.759 roc: 0.574 max roc: 0.581\n"
     ]
    },
    {
     "name": "stderr",
     "output_type": "stream",
     "text": [
      "                                               \r"
     ]
    },
    {
     "name": "stdout",
     "output_type": "stream",
     "text": [
      "Epoch [26/50], Generator Loss: 3.3510, Discriminator Loss: 0.0595\n",
      "Epoch [26/50] - Avg Generator Loss: 3.3510, Avg Discriminator Loss: 0.0595, Best AUC: 0.5806\n",
      "   Avg Run Time (ms/batch): 3.947 roc: 0.570 max roc: 0.581\n"
     ]
    },
    {
     "name": "stderr",
     "output_type": "stream",
     "text": [
      "                                               \r"
     ]
    },
    {
     "name": "stdout",
     "output_type": "stream",
     "text": [
      "Epoch [27/50], Generator Loss: 3.2859, Discriminator Loss: 0.0103\n",
      "Epoch [27/50] - Avg Generator Loss: 3.2859, Avg Discriminator Loss: 0.0103, Best AUC: 0.5806\n",
      "   Avg Run Time (ms/batch): 3.355 roc: 0.567 max roc: 0.581\n"
     ]
    },
    {
     "name": "stderr",
     "output_type": "stream",
     "text": [
      "                                               \r"
     ]
    },
    {
     "name": "stdout",
     "output_type": "stream",
     "text": [
      "Epoch [28/50], Generator Loss: 3.2499, Discriminator Loss: 0.0072\n",
      "Epoch [28/50] - Avg Generator Loss: 3.2499, Avg Discriminator Loss: 0.0072, Best AUC: 0.5806\n",
      "   Avg Run Time (ms/batch): 3.928 roc: 0.576 max roc: 0.581\n"
     ]
    },
    {
     "name": "stderr",
     "output_type": "stream",
     "text": [
      "                                               \r"
     ]
    },
    {
     "name": "stdout",
     "output_type": "stream",
     "text": [
      "Epoch [29/50], Generator Loss: 3.2456, Discriminator Loss: 0.0073\n",
      "Epoch [29/50] - Avg Generator Loss: 3.2456, Avg Discriminator Loss: 0.0073, Best AUC: 0.5806\n",
      "   Avg Run Time (ms/batch): 3.563 roc: 0.573 max roc: 0.581\n"
     ]
    },
    {
     "name": "stderr",
     "output_type": "stream",
     "text": [
      "                                               \r"
     ]
    },
    {
     "name": "stdout",
     "output_type": "stream",
     "text": [
      "Epoch [30/50], Generator Loss: 3.2298, Discriminator Loss: 0.0054\n",
      "Epoch [30/50] - Avg Generator Loss: 3.2298, Avg Discriminator Loss: 0.0054, Best AUC: 0.5806\n",
      "   Avg Run Time (ms/batch): 3.557 roc: 0.575 max roc: 0.581\n"
     ]
    },
    {
     "name": "stderr",
     "output_type": "stream",
     "text": [
      "                                               \r"
     ]
    },
    {
     "name": "stdout",
     "output_type": "stream",
     "text": [
      "Epoch [31/50], Generator Loss: 3.2088, Discriminator Loss: 0.0046\n",
      "Epoch [31/50] - Avg Generator Loss: 3.2088, Avg Discriminator Loss: 0.0046, Best AUC: 0.5810\n",
      "   Avg Run Time (ms/batch): 3.547 roc: 0.581 max roc: 0.581\n"
     ]
    },
    {
     "name": "stderr",
     "output_type": "stream",
     "text": [
      "                                               \r"
     ]
    },
    {
     "name": "stdout",
     "output_type": "stream",
     "text": [
      "Epoch [32/50], Generator Loss: 3.1976, Discriminator Loss: 0.0075\n",
      "Epoch [32/50] - Avg Generator Loss: 3.1976, Avg Discriminator Loss: 0.0075, Best AUC: 0.5810\n",
      "   Avg Run Time (ms/batch): 3.446 roc: 0.566 max roc: 0.581\n"
     ]
    },
    {
     "name": "stderr",
     "output_type": "stream",
     "text": [
      "                                               \r"
     ]
    },
    {
     "name": "stdout",
     "output_type": "stream",
     "text": [
      "Epoch [33/50], Generator Loss: 3.1514, Discriminator Loss: 0.0804\n",
      "Epoch [33/50] - Avg Generator Loss: 3.1514, Avg Discriminator Loss: 0.0804, Best AUC: 0.5810\n",
      "   Avg Run Time (ms/batch): 4.693 roc: 0.568 max roc: 0.581\n"
     ]
    },
    {
     "name": "stderr",
     "output_type": "stream",
     "text": [
      "                                               \r"
     ]
    },
    {
     "name": "stdout",
     "output_type": "stream",
     "text": [
      "Epoch [34/50], Generator Loss: 3.0834, Discriminator Loss: 0.0102\n",
      "Epoch [34/50] - Avg Generator Loss: 3.0834, Avg Discriminator Loss: 0.0102, Best AUC: 0.5810\n",
      "   Avg Run Time (ms/batch): 4.378 roc: 0.571 max roc: 0.581\n"
     ]
    },
    {
     "name": "stderr",
     "output_type": "stream",
     "text": [
      "                                               \r"
     ]
    },
    {
     "name": "stdout",
     "output_type": "stream",
     "text": [
      "Epoch [35/50], Generator Loss: 3.0874, Discriminator Loss: 0.0081\n",
      "Epoch [35/50] - Avg Generator Loss: 3.0874, Avg Discriminator Loss: 0.0081, Best AUC: 0.5810\n",
      "   Avg Run Time (ms/batch): 4.454 roc: 0.565 max roc: 0.581\n"
     ]
    },
    {
     "name": "stderr",
     "output_type": "stream",
     "text": [
      "                                               \r"
     ]
    },
    {
     "name": "stdout",
     "output_type": "stream",
     "text": [
      "Epoch [36/50], Generator Loss: 3.0925, Discriminator Loss: 0.0115\n",
      "Epoch [36/50] - Avg Generator Loss: 3.0925, Avg Discriminator Loss: 0.0115, Best AUC: 0.5810\n",
      "   Avg Run Time (ms/batch): 6.811 roc: 0.563 max roc: 0.581\n"
     ]
    },
    {
     "name": "stderr",
     "output_type": "stream",
     "text": [
      "                                               \r"
     ]
    },
    {
     "name": "stdout",
     "output_type": "stream",
     "text": [
      "Epoch [37/50], Generator Loss: 3.0984, Discriminator Loss: 0.0043\n",
      "Epoch [37/50] - Avg Generator Loss: 3.0984, Avg Discriminator Loss: 0.0043, Best AUC: 0.5810\n",
      "   Avg Run Time (ms/batch): 3.264 roc: 0.574 max roc: 0.581\n"
     ]
    },
    {
     "name": "stderr",
     "output_type": "stream",
     "text": [
      "                                               \r"
     ]
    },
    {
     "name": "stdout",
     "output_type": "stream",
     "text": [
      "Epoch [38/50], Generator Loss: 3.0818, Discriminator Loss: 0.0045\n",
      "Epoch [38/50] - Avg Generator Loss: 3.0818, Avg Discriminator Loss: 0.0045, Best AUC: 0.5810\n",
      "   Avg Run Time (ms/batch): 3.454 roc: 0.563 max roc: 0.581\n"
     ]
    },
    {
     "name": "stderr",
     "output_type": "stream",
     "text": [
      "                                               \r"
     ]
    },
    {
     "name": "stdout",
     "output_type": "stream",
     "text": [
      "Epoch [39/50], Generator Loss: 3.0853, Discriminator Loss: 0.0053\n",
      "Epoch [39/50] - Avg Generator Loss: 3.0853, Avg Discriminator Loss: 0.0053, Best AUC: 0.5810\n",
      "   Avg Run Time (ms/batch): 3.479 roc: 0.552 max roc: 0.581\n"
     ]
    },
    {
     "name": "stderr",
     "output_type": "stream",
     "text": [
      "                                               \r"
     ]
    },
    {
     "name": "stdout",
     "output_type": "stream",
     "text": [
      "Epoch [40/50], Generator Loss: 3.0034, Discriminator Loss: 0.1487\n",
      "Epoch [40/50] - Avg Generator Loss: 3.0034, Avg Discriminator Loss: 0.1487, Best AUC: 0.5810\n",
      "   Avg Run Time (ms/batch): 3.704 roc: 0.567 max roc: 0.581\n"
     ]
    },
    {
     "name": "stderr",
     "output_type": "stream",
     "text": [
      "                                               \r"
     ]
    },
    {
     "name": "stdout",
     "output_type": "stream",
     "text": [
      "Epoch [41/50], Generator Loss: 2.9693, Discriminator Loss: 0.0044\n",
      "Epoch [41/50] - Avg Generator Loss: 2.9693, Avg Discriminator Loss: 0.0044, Best AUC: 0.5810\n",
      "   Avg Run Time (ms/batch): 4.018 roc: 0.581 max roc: 0.581\n"
     ]
    },
    {
     "name": "stderr",
     "output_type": "stream",
     "text": [
      "                                               \r"
     ]
    },
    {
     "name": "stdout",
     "output_type": "stream",
     "text": [
      "Epoch [42/50], Generator Loss: 3.0136, Discriminator Loss: 0.0400\n",
      "Epoch [42/50] - Avg Generator Loss: 3.0136, Avg Discriminator Loss: 0.0400, Best AUC: 0.5810\n",
      "   Avg Run Time (ms/batch): 3.420 roc: 0.572 max roc: 0.581\n"
     ]
    },
    {
     "name": "stderr",
     "output_type": "stream",
     "text": [
      "                                               \r"
     ]
    },
    {
     "name": "stdout",
     "output_type": "stream",
     "text": [
      "Epoch [43/50], Generator Loss: 2.9466, Discriminator Loss: 0.0110\n",
      "Epoch [43/50] - Avg Generator Loss: 2.9466, Avg Discriminator Loss: 0.0110, Best AUC: 0.5810\n",
      "   Avg Run Time (ms/batch): 4.057 roc: 0.570 max roc: 0.581\n"
     ]
    },
    {
     "name": "stderr",
     "output_type": "stream",
     "text": [
      "                                               \r"
     ]
    },
    {
     "name": "stdout",
     "output_type": "stream",
     "text": [
      "Epoch [44/50], Generator Loss: 2.9767, Discriminator Loss: 0.0044\n",
      "Epoch [44/50] - Avg Generator Loss: 2.9767, Avg Discriminator Loss: 0.0044, Best AUC: 0.5810\n",
      "   Avg Run Time (ms/batch): 3.955 roc: 0.571 max roc: 0.581\n"
     ]
    },
    {
     "name": "stderr",
     "output_type": "stream",
     "text": [
      "                                               \r"
     ]
    },
    {
     "name": "stdout",
     "output_type": "stream",
     "text": [
      "Epoch [45/50], Generator Loss: 2.9189, Discriminator Loss: 0.0037\n",
      "Epoch [45/50] - Avg Generator Loss: 2.9189, Avg Discriminator Loss: 0.0037, Best AUC: 0.5810\n",
      "   Avg Run Time (ms/batch): 3.845 roc: 0.574 max roc: 0.581\n"
     ]
    },
    {
     "name": "stderr",
     "output_type": "stream",
     "text": [
      "                                               \r"
     ]
    },
    {
     "name": "stdout",
     "output_type": "stream",
     "text": [
      "Epoch [46/50], Generator Loss: 2.8759, Discriminator Loss: 0.0054\n",
      "Epoch [46/50] - Avg Generator Loss: 2.8759, Avg Discriminator Loss: 0.0054, Best AUC: 0.5874\n",
      "   Avg Run Time (ms/batch): 4.076 roc: 0.587 max roc: 0.587\n"
     ]
    },
    {
     "name": "stderr",
     "output_type": "stream",
     "text": [
      "                                               \r"
     ]
    },
    {
     "name": "stdout",
     "output_type": "stream",
     "text": [
      "Epoch [47/50], Generator Loss: 2.8907, Discriminator Loss: 0.0514\n",
      "Epoch [47/50] - Avg Generator Loss: 2.8907, Avg Discriminator Loss: 0.0514, Best AUC: 0.5874\n",
      "   Avg Run Time (ms/batch): 3.842 roc: 0.577 max roc: 0.587\n"
     ]
    },
    {
     "name": "stderr",
     "output_type": "stream",
     "text": [
      "                                               \r"
     ]
    },
    {
     "name": "stdout",
     "output_type": "stream",
     "text": [
      "Epoch [48/50], Generator Loss: 2.9178, Discriminator Loss: 0.0128\n",
      "Epoch [48/50] - Avg Generator Loss: 2.9178, Avg Discriminator Loss: 0.0128, Best AUC: 0.5874\n",
      "   Avg Run Time (ms/batch): 3.985 roc: 0.570 max roc: 0.587\n"
     ]
    },
    {
     "name": "stderr",
     "output_type": "stream",
     "text": [
      "                                               \r"
     ]
    },
    {
     "name": "stdout",
     "output_type": "stream",
     "text": [
      "Epoch [49/50], Generator Loss: 2.8504, Discriminator Loss: 0.0045\n",
      "Epoch [49/50] - Avg Generator Loss: 2.8504, Avg Discriminator Loss: 0.0045, Best AUC: 0.5874\n",
      "   Avg Run Time (ms/batch): 6.345 roc: 0.580 max roc: 0.587\n"
     ]
    },
    {
     "name": "stderr",
     "output_type": "stream",
     "text": [
      "                                               \r"
     ]
    },
    {
     "name": "stdout",
     "output_type": "stream",
     "text": [
      "Epoch [50/50], Generator Loss: 2.8603, Discriminator Loss: 0.0052\n",
      "Epoch [50/50] - Avg Generator Loss: 2.8603, Avg Discriminator Loss: 0.0052, Best AUC: 0.5874\n",
      "   Avg Run Time (ms/batch): 6.221 roc: 0.570 max roc: 0.587\n",
      ">> Training model Ganomaly.[Done]\n"
     ]
    }
   ],
   "source": [
    "model.train()"
   ]
  },
  {
   "cell_type": "code",
   "execution_count": 8,
   "metadata": {},
   "outputs": [],
   "source": [
    "model.save_weights(49)"
   ]
  },
  {
   "cell_type": "markdown",
   "metadata": {},
   "source": [
    "> #### 추가 학습"
   ]
  },
  {
   "cell_type": "code",
   "execution_count": 9,
   "metadata": {},
   "outputs": [],
   "source": [
    "opt.resume = {\n",
    "    'netg_path': r\"C:\\Users\\dhshs\\Documents\\ganomaly_global\\project\\output(CIFAR with mask)\\ganomaly\\CIFAR\\train\\weights\\epoch50_netG.pth\",\n",
    "    'netd_path': r\"C:\\Users\\dhshs\\Documents\\ganomaly_global\\project\\output(CIFAR with mask)\\ganomaly\\CIFAR\\train\\weights\\epoch50_netD.pth\"\n",
    "}\n",
    "opt.niter = 150 # 에폭 수"
   ]
  },
  {
   "cell_type": "code",
   "execution_count": null,
   "metadata": {},
   "outputs": [],
   "source": [
    "dataloader = {'train': train_loader, 'test': test_loader}  # 데이터 로더 설정\n",
    "\n",
    "# GANomaly 모델 생성\n",
    "model = Ganomaly(opt, dataloader)"
   ]
  },
  {
   "cell_type": "code",
   "execution_count": null,
   "metadata": {},
   "outputs": [],
   "source": [
    "model.train()"
   ]
  },
  {
   "cell_type": "code",
   "execution_count": null,
   "metadata": {},
   "outputs": [],
   "source": [
    "model.save_weights(99)"
   ]
  },
  {
   "cell_type": "code",
   "execution_count": 10,
   "metadata": {},
   "outputs": [],
   "source": [
    "def evaluate_and_visualize(model, dataloader, device, threshold=None):\n",
    "    \"\"\"\n",
    "    Evaluate the model and visualize the results, including test(normal) and test(anomaly) distributions.\n",
    "    This function integrates the calculation of novelty scores.\n",
    "    \"\"\"\n",
    "    model.netg.eval()  # Set the model to evaluation mode\n",
    "    novelty_scores = []\n",
    "    labels = []\n",
    "\n",
    "    # Calculate novelty scores\n",
    "    with torch.no_grad():\n",
    "        for data in dataloader:\n",
    "            inputs, targets = data[0].to(device), data[1].to(device)\n",
    "\n",
    "            # Forward pass through NetG\n",
    "            _, _, _, latent_i, latent_o = model.netg(inputs)\n",
    "\n",
    "            # Calculate novelty score\n",
    "            scores = torch.mean((latent_i - latent_o) ** 2, dim=1).cpu().numpy().flatten()\n",
    "            novelty_scores.extend(scores)\n",
    "            labels.extend(targets.cpu().numpy())\n",
    "\n",
    "    # Convert to numpy arrays\n",
    "    novelty_scores = np.array(novelty_scores)\n",
    "    labels = np.array(labels)\n",
    "\n",
    "    # Find threshold if not provided\n",
    "    if threshold is None:\n",
    "        fpr, tpr, thresholds = roc_curve(labels, novelty_scores)\n",
    "        optimal_idx = np.argmax(tpr - fpr)\n",
    "        threshold = thresholds[optimal_idx]\n",
    "\n",
    "    # Generate predictions\n",
    "    preds = (novelty_scores > threshold).astype(int)\n",
    "\n",
    "    # Separate test scores into normal and anomaly based on true labels\n",
    "    normal_scores = novelty_scores[labels == 0]\n",
    "    anomaly_scores = novelty_scores[labels == 1]\n",
    "\n",
    "    # Plot Novelty Scores Distribution\n",
    "    plt.figure(figsize=(10, 5))\n",
    "    sns.histplot(normal_scores, color=\"green\", label=\"Test (Normal)\", kde=True, bins=30, stat=\"density\", alpha=0.5)\n",
    "    sns.histplot(anomaly_scores, color=\"red\", label=\"Test (Anomalous)\", kde=True, bins=30, stat=\"density\", alpha=0.5)\n",
    "    plt.axvline(x=threshold, color=\"black\", linestyle=\"--\", label=\"Threshold\")\n",
    "    plt.title(\"Novelty Scores Distribution\")\n",
    "    plt.xlabel(\"Novelty Score\")\n",
    "    plt.ylabel(\"Density\")\n",
    "    plt.xlim(0, 1)  # X-axis range limited to 0-1\n",
    "    plt.legend()\n",
    "    plt.show()\n",
    "\n",
    "    # Print Classification Report\n",
    "    print(\"\\nClassification Report:\")\n",
    "    print(classification_report(labels, preds))\n",
    "\n",
    "    return threshold\n"
   ]
  },
  {
   "cell_type": "code",
   "execution_count": 11,
   "metadata": {},
   "outputs": [
    {
     "name": "stderr",
     "output_type": "stream",
     "text": [
      "c:\\Users\\dhshs\\anaconda3\\Lib\\site-packages\\seaborn\\_oldcore.py:1119: FutureWarning: use_inf_as_na option is deprecated and will be removed in a future version. Convert inf values to NaN before operating instead.\n",
      "  with pd.option_context('mode.use_inf_as_na', True):\n",
      "c:\\Users\\dhshs\\anaconda3\\Lib\\site-packages\\seaborn\\_oldcore.py:1119: FutureWarning: use_inf_as_na option is deprecated and will be removed in a future version. Convert inf values to NaN before operating instead.\n",
      "  with pd.option_context('mode.use_inf_as_na', True):\n"
     ]
    },
    {
     "data": {
      "image/png": "[encoded data removed]",
      "text/plain": [
       "<Figure size 1000x500 with 1 Axes>"
      ]
     },
     "metadata": {},
     "output_type": "display_data"
    },
    {
     "name": "stdout",
     "output_type": "stream",
     "text": [
      "\n",
      "Classification Report:\n",
      "              precision    recall  f1-score   support\n",
      "\n",
      "           0       0.92      0.01      0.02      2000\n",
      "           1       0.20      1.00      0.33       500\n",
      "\n",
      "    accuracy                           0.21      2500\n",
      "   macro avg       0.56      0.50      0.18      2500\n",
      "weighted avg       0.78      0.21      0.09      2500\n",
      "\n",
      "Optimal Threshold: 0.030665503814816475\n"
     ]
    }
   ],
   "source": [
    "# Evaluate and visualize\n",
    "optimal_threshold = evaluate_and_visualize(model, test_loader, device)\n",
    "print(f\"Optimal Threshold: {optimal_threshold}\")\n"
   ]
  },
  {
   "cell_type": "code",
   "execution_count": 12,
   "metadata": {},
   "outputs": [],
   "source": [
    "import numpy as np\n",
    "import torch\n",
    "from sklearn.metrics import classification_report, confusion_matrix\n",
    "import matplotlib.pyplot as plt\n",
    "\n",
    "def evaluate_test_dataset(model, test_loader, threshold, device=\"cuda\"):\n",
    "    \"\"\"\n",
    "    설정된 임계값을 사용하여 test dataset에 대해 이상치를 판별하고 평가합니다.\n",
    "\n",
    "    Args:\n",
    "        model: GANomaly 모델 인스턴스\n",
    "        test_loader: test sample을 포함한 DataLoader\n",
    "        threshold (float): 이상치 판별을 위한 임계값\n",
    "        device (str): 연산에 사용할 장치 (기본값: \"cuda\")\n",
    "    \"\"\"\n",
    "    model.netg.eval()\n",
    "    novelty_scores = []\n",
    "    true_labels = []\n",
    "    predictions = []\n",
    "\n",
    "    with torch.no_grad():\n",
    "        for data in test_loader:\n",
    "            # 데이터 로드 및 device로 이동\n",
    "            inputs, labels = data[0].to(device), data[1].to(device)\n",
    "            if inputs.dim() == 3:\n",
    "                inputs = inputs.unsqueeze(0)\n",
    "            \n",
    "            # latent 벡터 생성 및 novelty score 계산\n",
    "            _, latent_i, latent_o = model.netg(inputs)\n",
    "            scores = torch.mean((latent_i - latent_o) ** 2, dim=1)\n",
    "            novelty_scores.extend(scores.cpu().numpy())\n",
    "            true_labels.extend(labels.cpu().numpy())\n",
    "\n",
    "            # 임계값을 사용해 이상 여부를 예측 (0: 정상, 1: 이상)\n",
    "            pred = (scores >= threshold).int()\n",
    "            predictions.extend(pred.cpu().numpy())\n",
    "\n",
    "    # numpy 배열로 변환 및 차원 축소\n",
    "    true_labels = np.array(true_labels).astype(int).flatten()\n",
    "    predictions = np.array(predictions).astype(int).flatten()\n",
    "    novelty_scores = np.array(novelty_scores).flatten()\n",
    "\n",
    "    # Confusion matrix 생성 및 시각화\n",
    "    cm = confusion_matrix(true_labels, predictions)\n",
    "    plt.figure(figsize=(6, 6))\n",
    "    plt.imshow(cm, interpolation=\"nearest\", cmap=plt.cm.Blues)\n",
    "    plt.title(\"Confusion Matrix\")\n",
    "    plt.colorbar()\n",
    "    plt.xlabel(\"Predicted Label\")\n",
    "    plt.ylabel(\"True Label\")\n",
    "    plt.xticks([0, 1], [\"Normal\", \"Anomaly\"])\n",
    "    plt.yticks([0, 1], [\"Normal\", \"Anomaly\"])\n",
    "\n",
    "    # 각 셀에 샘플 개수를 텍스트로 추가\n",
    "    for i in range(cm.shape[0]):\n",
    "        for j in range(cm.shape[1]):\n",
    "            plt.text(j, i, format(cm[i, j], 'd'),\n",
    "                     ha=\"center\", va=\"center\",\n",
    "                     color=\"white\" if cm[i, j] > cm.max() / 2 else \"black\")\n",
    "\n",
    "    plt.show()"
   ]
  },
  {
   "cell_type": "code",
   "execution_count": 13,
   "metadata": {},
   "outputs": [
    {
     "ename": "ValueError",
     "evalue": "too many values to unpack (expected 3)",
     "output_type": "error",
     "traceback": [
      "\u001b[1;31m---------------------------------------------------------------------------\u001b[0m",
      "\u001b[1;31mValueError\u001b[0m                                Traceback (most recent call last)",
      "Cell \u001b[1;32mIn[13], line 2\u001b[0m\n\u001b[0;32m      1\u001b[0m \u001b[38;5;66;03m# 사용 예시: test_loader를 입력으로 전달하고 threshold 적용\u001b[39;00m\n\u001b[1;32m----> 2\u001b[0m evaluate_test_dataset(model, test_loader, optimal_threshold, device\u001b[38;5;241m=\u001b[39mdevice)\n",
      "Cell \u001b[1;32mIn[12], line 29\u001b[0m, in \u001b[0;36mevaluate_test_dataset\u001b[1;34m(model, test_loader, threshold, device)\u001b[0m\n\u001b[0;32m     26\u001b[0m     inputs \u001b[38;5;241m=\u001b[39m inputs\u001b[38;5;241m.\u001b[39munsqueeze(\u001b[38;5;241m0\u001b[39m)\n\u001b[0;32m     28\u001b[0m \u001b[38;5;66;03m# latent 벡터 생성 및 novelty score 계산\u001b[39;00m\n\u001b[1;32m---> 29\u001b[0m _, latent_i, latent_o \u001b[38;5;241m=\u001b[39m model\u001b[38;5;241m.\u001b[39mnetg(inputs)\n\u001b[0;32m     30\u001b[0m scores \u001b[38;5;241m=\u001b[39m torch\u001b[38;5;241m.\u001b[39mmean((latent_i \u001b[38;5;241m-\u001b[39m latent_o) \u001b[38;5;241m*\u001b[39m\u001b[38;5;241m*\u001b[39m \u001b[38;5;241m2\u001b[39m, dim\u001b[38;5;241m=\u001b[39m\u001b[38;5;241m1\u001b[39m)\n\u001b[0;32m     31\u001b[0m novelty_scores\u001b[38;5;241m.\u001b[39mextend(scores\u001b[38;5;241m.\u001b[39mcpu()\u001b[38;5;241m.\u001b[39mnumpy())\n",
      "\u001b[1;31mValueError\u001b[0m: too many values to unpack (expected 3)"
     ]
    }
   ],
   "source": [
    "# 사용 예시: test_loader를 입력으로 전달하고 threshold 적용\n",
    "evaluate_test_dataset(model, test_loader, optimal_threshold, device=device)"
   ]
  },
  {
   "cell_type": "markdown",
   "metadata": {},
   "source": [
    "---"
   ]
  },
  {
   "cell_type": "code",
   "execution_count": null,
   "metadata": {},
   "outputs": [],
   "source": [
    "# Jupyter Notebook의 매개변수를 무시하도록 설정\n",
    "sys.argv = ['']\n",
    "\n",
    "# 옵션 설정\n",
    "opt = Options().parse()\n",
    "opt.isize = 256  # 데이터의 이미지 크기\n",
    "opt.nc = 1       # 흑백 이미지이므로 채널 수를 1로 설정\n",
    "opt.batchsize = 32  # 배치 크기 설정\n",
    "opt.save_test_images = True  # 테스트 이미지 저장 설정\n",
    "opt.display = True  # 실시간 시각화 설정\n",
    "opt.niter = 50\n",
    "opt.resume = {\n",
    "    'netg_path': r\"C:\\Users\\dhshs\\Documents\\ganomaly_global\\project\\output(use masking 가중치 0.5)\\ganomaly\\ELPV\\train\\weights\\epoch50_netG.pth\",\n",
    "    'netd_path': r\"C:\\Users\\dhshs\\Documents\\ganomaly_global\\project\\output(use masking 가중치 0.5)\\ganomaly\\ELPV\\train\\weights\\epoch50_netD.pth\"\n",
    "}\n",
    "opt.use_context_pred = True # 마스킹 설정"
   ]
  },
  {
   "cell_type": "code",
   "execution_count": null,
   "metadata": {},
   "outputs": [],
   "source": [
    "dataloader = {'train': train_loader, 'test': test_loader}  # 데이터 로더 설정\n",
    "\n",
    "# GANomaly 모델 생성\n",
    "model = Ganomaly(opt, dataloader)"
   ]
  },
  {
   "cell_type": "code",
   "execution_count": null,
   "metadata": {},
   "outputs": [],
   "source": []
  }
 ],
 "metadata": {
  "kernelspec": {
   "display_name": "base",
   "language": "python",
   "name": "python3"
  },
  "language_info": {
   "codemirror_mode": {
    "name": "ipython",
    "version": 3
   },
   "file_extension": ".py",
   "mimetype": "text/x-python",
   "name": "python",
   "nbconvert_exporter": "python",
   "pygments_lexer": "ipython3",
   "version": "3.11.7"
  }
 },
 "nbformat": 4,
 "nbformat_minor": 2
}
